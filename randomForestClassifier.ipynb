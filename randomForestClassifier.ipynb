{
 "cells": [
  {
   "cell_type": "code",
   "execution_count": 28,
   "id": "1f00587f-6cd0-4a63-808d-860793a84f48",
   "metadata": {},
   "outputs": [
    {
     "name": "stdout",
     "output_type": "stream",
     "text": [
      "C:\\Users\\ASUS\n"
     ]
    }
   ],
   "source": [
    "import os\n",
    "print(os.getcwd())"
   ]
  },
  {
   "cell_type": "code",
   "execution_count": 29,
   "id": "9d5be707-4990-4314-b1a6-f5ef306b0063",
   "metadata": {},
   "outputs": [],
   "source": [
    "import pandas as pd\n",
    "import numpy as np\n",
    "from sklearn.model_selection import train_test_split\n",
    "from sklearn.ensemble import RandomForestClassifier\n",
    "from sklearn.metrics import accuracy_score, confusion_matrix, classification_report\n",
    "from sklearn.preprocessing import StandardScaler\n",
    "import matplotlib.pyplot as plt\n",
    "import seaborn as sns"
   ]
  },
  {
   "cell_type": "code",
   "execution_count": 30,
   "id": "7c2ae249-2fd7-4083-b19d-765b543a52c5",
   "metadata": {},
   "outputs": [],
   "source": [
    "df = pd.read_csv('cardio_train.csv', sep=';') # Veri setinin noktalı virgül ile ayrıldığını biliyoruz"
   ]
  },
  {
   "cell_type": "code",
   "execution_count": 31,
   "id": "0ce04749-77ec-4cc5-8afe-9527f8c83ea0",
   "metadata": {},
   "outputs": [
    {
     "data": {
      "text/html": [
       "<div>\n",
       "<style scoped>\n",
       "    .dataframe tbody tr th:only-of-type {\n",
       "        vertical-align: middle;\n",
       "    }\n",
       "\n",
       "    .dataframe tbody tr th {\n",
       "        vertical-align: top;\n",
       "    }\n",
       "\n",
       "    .dataframe thead th {\n",
       "        text-align: right;\n",
       "    }\n",
       "</style>\n",
       "<table border=\"1\" class=\"dataframe\">\n",
       "  <thead>\n",
       "    <tr style=\"text-align: right;\">\n",
       "      <th></th>\n",
       "      <th>id</th>\n",
       "      <th>age</th>\n",
       "      <th>gender</th>\n",
       "      <th>height</th>\n",
       "      <th>weight</th>\n",
       "      <th>ap_hi</th>\n",
       "      <th>ap_lo</th>\n",
       "      <th>cholesterol</th>\n",
       "      <th>gluc</th>\n",
       "      <th>smoke</th>\n",
       "      <th>alco</th>\n",
       "      <th>active</th>\n",
       "      <th>cardio</th>\n",
       "    </tr>\n",
       "  </thead>\n",
       "  <tbody>\n",
       "    <tr>\n",
       "      <th>0</th>\n",
       "      <td>0</td>\n",
       "      <td>18393</td>\n",
       "      <td>2</td>\n",
       "      <td>168</td>\n",
       "      <td>62.0</td>\n",
       "      <td>110</td>\n",
       "      <td>80</td>\n",
       "      <td>1</td>\n",
       "      <td>1</td>\n",
       "      <td>0</td>\n",
       "      <td>0</td>\n",
       "      <td>1</td>\n",
       "      <td>0</td>\n",
       "    </tr>\n",
       "    <tr>\n",
       "      <th>1</th>\n",
       "      <td>1</td>\n",
       "      <td>20228</td>\n",
       "      <td>1</td>\n",
       "      <td>156</td>\n",
       "      <td>85.0</td>\n",
       "      <td>140</td>\n",
       "      <td>90</td>\n",
       "      <td>3</td>\n",
       "      <td>1</td>\n",
       "      <td>0</td>\n",
       "      <td>0</td>\n",
       "      <td>1</td>\n",
       "      <td>1</td>\n",
       "    </tr>\n",
       "    <tr>\n",
       "      <th>2</th>\n",
       "      <td>2</td>\n",
       "      <td>18857</td>\n",
       "      <td>1</td>\n",
       "      <td>165</td>\n",
       "      <td>64.0</td>\n",
       "      <td>130</td>\n",
       "      <td>70</td>\n",
       "      <td>3</td>\n",
       "      <td>1</td>\n",
       "      <td>0</td>\n",
       "      <td>0</td>\n",
       "      <td>0</td>\n",
       "      <td>1</td>\n",
       "    </tr>\n",
       "  </tbody>\n",
       "</table>\n",
       "</div>"
      ],
      "text/plain": [
       "   id    age  gender  height  weight  ap_hi  ap_lo  cholesterol  gluc  smoke  \\\n",
       "0   0  18393       2     168    62.0    110     80            1     1      0   \n",
       "1   1  20228       1     156    85.0    140     90            3     1      0   \n",
       "2   2  18857       1     165    64.0    130     70            3     1      0   \n",
       "\n",
       "   alco  active  cardio  \n",
       "0     0       1       0  \n",
       "1     0       1       1  \n",
       "2     0       0       1  "
      ]
     },
     "execution_count": 31,
     "metadata": {},
     "output_type": "execute_result"
    }
   ],
   "source": [
    "df.head(3)"
   ]
  },
  {
   "cell_type": "code",
   "execution_count": 32,
   "id": "cf4af000-8156-489a-9038-6cc1aba3cc43",
   "metadata": {},
   "outputs": [
    {
     "name": "stdout",
     "output_type": "stream",
     "text": [
      "<class 'pandas.core.frame.DataFrame'>\n",
      "RangeIndex: 70000 entries, 0 to 69999\n",
      "Data columns (total 13 columns):\n",
      " #   Column       Non-Null Count  Dtype  \n",
      "---  ------       --------------  -----  \n",
      " 0   id           70000 non-null  int64  \n",
      " 1   age          70000 non-null  int64  \n",
      " 2   gender       70000 non-null  int64  \n",
      " 3   height       70000 non-null  int64  \n",
      " 4   weight       70000 non-null  float64\n",
      " 5   ap_hi        70000 non-null  int64  \n",
      " 6   ap_lo        70000 non-null  int64  \n",
      " 7   cholesterol  70000 non-null  int64  \n",
      " 8   gluc         70000 non-null  int64  \n",
      " 9   smoke        70000 non-null  int64  \n",
      " 10  alco         70000 non-null  int64  \n",
      " 11  active       70000 non-null  int64  \n",
      " 12  cardio       70000 non-null  int64  \n",
      "dtypes: float64(1), int64(12)\n",
      "memory usage: 6.9 MB\n"
     ]
    }
   ],
   "source": [
    "df.info()"
   ]
  },
  {
   "cell_type": "code",
   "execution_count": 33,
   "id": "393e242d-d31e-45f0-9ce4-3a0922bc6245",
   "metadata": {},
   "outputs": [
    {
     "name": "stdout",
     "output_type": "stream",
     "text": [
      "id: 70000 unique values\n",
      "age: 8076 unique values\n",
      "gender: 2 unique values\n",
      "height: 109 unique values\n",
      "weight: 287 unique values\n",
      "ap_hi: 153 unique values\n",
      "ap_lo: 157 unique values\n",
      "cholesterol: 3 unique values\n",
      "gluc: 3 unique values\n",
      "smoke: 2 unique values\n",
      "alco: 2 unique values\n",
      "active: 2 unique values\n",
      "cardio: 2 unique values\n"
     ]
    }
   ],
   "source": [
    "for col in df.columns:\n",
    "    print(f\"{col}: {df[col].nunique()} unique values\")"
   ]
  },
  {
   "cell_type": "code",
   "execution_count": 34,
   "id": "11822eb3-cbb4-4f37-9275-2c4f2efea2ab",
   "metadata": {},
   "outputs": [],
   "source": [
    "df=df.drop('id',axis=1)"
   ]
  },
  {
   "cell_type": "code",
   "execution_count": 36,
   "id": "cfd67d24-26df-4833-a0b2-2ee0336d018b",
   "metadata": {},
   "outputs": [],
   "source": [
    "# Çok düşük veya çok yüksek değerleri filtreleme\n",
    "df = df[(df['ap_hi'] >= 70) & (df['ap_hi'] <= 200)]\n",
    "df = df[(df['ap_lo'] >= 40) & (df['ap_lo'] <= 150)]\n",
    "df = df[df['ap_hi'] > df['ap_lo']] # Sistolik kan basıncı, diyastolikten büyük olmalı"
   ]
  },
  {
   "cell_type": "code",
   "execution_count": 37,
   "id": "326fdd1c-1806-4660-9123-3f6b7b68d05d",
   "metadata": {},
   "outputs": [],
   "source": [
    "categorical_features = ['gender', 'cholesterol', 'gluc', 'smoke', 'alco', 'active']\n",
    "df = pd.get_dummies(df, columns=categorical_features, drop_first=True) "
   ]
  },
  {
   "cell_type": "code",
   "execution_count": 39,
   "id": "7ee17084-09fb-4f09-ac5b-bb42cb032a01",
   "metadata": {},
   "outputs": [
    {
     "name": "stdout",
     "output_type": "stream",
     "text": [
      "\n",
      "Veri Ön İşleme Sonrası İlk 5 Satır:\n",
      "        age    height    weight     ap_hi     ap_lo  cardio  gender_2  \\\n",
      "0 -0.433861  0.444966 -0.845301 -1.006368 -0.136085       0      True   \n",
      "1  0.309499 -1.021483  0.760319  0.812211  0.931088       1     False   \n",
      "2 -0.245894  0.078354 -0.705682  0.206018 -1.203257       1     False   \n",
      "3 -0.745788  0.567170  0.550890  1.418404  1.998261       1      True   \n",
      "4 -0.806148 -1.021483 -1.264158 -1.612561 -2.270430       0     False   \n",
      "\n",
      "   cholesterol_2  cholesterol_3  gluc_2  gluc_3  smoke_1  alco_1  active_1  \n",
      "0          False          False   False   False    False   False      True  \n",
      "1          False           True   False   False    False   False      True  \n",
      "2          False           True   False   False    False   False     False  \n",
      "3          False          False   False   False    False   False      True  \n",
      "4          False          False   False   False    False   False     False  \n",
      "\n",
      "Veri Ön İşleme Sonrası Bilgiler (Object tipleri kalmamalıdır):\n",
      "<class 'pandas.core.frame.DataFrame'>\n",
      "Index: 68615 entries, 0 to 69999\n",
      "Data columns (total 14 columns):\n",
      " #   Column         Non-Null Count  Dtype  \n",
      "---  ------         --------------  -----  \n",
      " 0   age            68615 non-null  float64\n",
      " 1   height         68615 non-null  float64\n",
      " 2   weight         68615 non-null  float64\n",
      " 3   ap_hi          68615 non-null  float64\n",
      " 4   ap_lo          68615 non-null  float64\n",
      " 5   cardio         68615 non-null  int64  \n",
      " 6   gender_2       68615 non-null  bool   \n",
      " 7   cholesterol_2  68615 non-null  bool   \n",
      " 8   cholesterol_3  68615 non-null  bool   \n",
      " 9   gluc_2         68615 non-null  bool   \n",
      " 10  gluc_3         68615 non-null  bool   \n",
      " 11  smoke_1        68615 non-null  bool   \n",
      " 12  alco_1         68615 non-null  bool   \n",
      " 13  active_1       68615 non-null  bool   \n",
      "dtypes: bool(8), float64(5), int64(1)\n",
      "memory usage: 4.2 MB\n",
      "None\n"
     ]
    }
   ],
   "source": [
    "numerical_features = ['age', 'height', 'weight', 'ap_hi', 'ap_lo']\n",
    "scaler = StandardScaler()\n",
    "df[numerical_features] = scaler.fit_transform(df[numerical_features])\n",
    "\n",
    "print(\"\\nVeri Ön İşleme Sonrası İlk 5 Satır:\")\n",
    "print(df.head())\n",
    "print(\"\\nVeri Ön İşleme Sonrası Bilgiler (Object tipleri kalmamalıdır):\")\n",
    "print(df.info())"
   ]
  },
  {
   "cell_type": "code",
   "execution_count": 40,
   "id": "d9d26ade-e7e9-42c5-b56e-6afc3dbc115b",
   "metadata": {},
   "outputs": [
    {
     "name": "stdout",
     "output_type": "stream",
     "text": [
      "\n",
      "X (Özellikler) Boyutu: (68615, 13)\n",
      "y (Hedef Değişken) Boyutu: (68615,)\n"
     ]
    }
   ],
   "source": [
    "# 'cardio' sütunu dışındaki tüm sütunlar özelliklerdir (X)\n",
    "X = df.drop('cardio', axis=1)\n",
    "# 'cardio' sütunu hedef değişkendir (y)\n",
    "y = df['cardio']\n",
    "\n",
    "print(\"\\nX (Özellikler) Boyutu:\", X.shape)\n",
    "print(\"y (Hedef Değişken) Boyutu:\", y.shape)"
   ]
  },
  {
   "cell_type": "code",
   "execution_count": 41,
   "id": "1a10d40d-64a5-4780-9793-ce491206bfa3",
   "metadata": {},
   "outputs": [
    {
     "name": "stdout",
     "output_type": "stream",
     "text": [
      "\n",
      "Eğitim Seti Boyutu (X_train, y_train): (54892, 13) (54892,)\n",
      "Test Seti Boyutu (X_test, y_test): (13723, 13) (13723,)\n"
     ]
    }
   ],
   "source": [
    "X_train, X_test, y_train, y_test = train_test_split(X, y, test_size=0.2, random_state=42, stratify=y)\n",
    "\n",
    "print(\"\\nEğitim Seti Boyutu (X_train, y_train):\", X_train.shape, y_train.shape)\n",
    "print(\"Test Seti Boyutu (X_test, y_test):\", X_test.shape, y_test.shape)"
   ]
  },
  {
   "cell_type": "code",
   "execution_count": 42,
   "id": "e20e8914-f65a-40fa-af8a-768eda471b8b",
   "metadata": {},
   "outputs": [
    {
     "name": "stdout",
     "output_type": "stream",
     "text": [
      "\n",
      "Random Forest Modeli Başarıyla Eğitildi!\n"
     ]
    }
   ],
   "source": [
    "model = RandomForestClassifier(n_estimators=200, random_state=42, class_weight='balanced')\n",
    "\n",
    "# Modeli eğitim verileriyle eğit\n",
    "model.fit(X_train, y_train)\n",
    "\n",
    "print(\"\\nRandom Forest Modeli Başarıyla Eğitildi!\")"
   ]
  },
  {
   "cell_type": "code",
   "execution_count": 43,
   "id": "c8d95ddc-1f50-4af8-a80b-267f657b8a3f",
   "metadata": {},
   "outputs": [
    {
     "name": "stdout",
     "output_type": "stream",
     "text": [
      "\n",
      "İlk 10 Tahmin (y_pred): [1 1 0 0 1 1 1 1 0 0]\n",
      "İlk 10 Gerçek Değer (y_test): [1 1 0 0 0 1 1 1 0 0]\n"
     ]
    }
   ],
   "source": [
    "# Test seti üzerinde tahmin yap\n",
    "y_pred = model.predict(X_test)\n",
    "\n",
    "print(\"\\nİlk 10 Tahmin (y_pred):\", y_pred[:10])\n",
    "print(\"İlk 10 Gerçek Değer (y_test):\", y_test.head(10).values)"
   ]
  },
  {
   "cell_type": "code",
   "execution_count": 45,
   "id": "18872642-7c81-4f8f-bc8c-a23184eb8d19",
   "metadata": {},
   "outputs": [
    {
     "name": "stdout",
     "output_type": "stream",
     "text": [
      "\n",
      "Model Doğruluğu (Accuracy): 0.7146\n"
     ]
    }
   ],
   "source": [
    "# Doğruluk (Accuracy)\n",
    "accuracy = accuracy_score(y_test, y_pred)\n",
    "print(f\"\\nModel Doğruluğu (Accuracy): {accuracy:.4f}\")"
   ]
  },
  {
   "cell_type": "code",
   "execution_count": 46,
   "id": "1b13ada3-2e86-4831-97bf-7a3f2d9028a8",
   "metadata": {},
   "outputs": [
    {
     "name": "stdout",
     "output_type": "stream",
     "text": [
      "\n",
      "Karışıklık Matrisi:\n",
      " [[5084 1853]\n",
      " [2063 4723]]\n"
     ]
    }
   ],
   "source": [
    "# Karışıklık Matrisi (Confusion Matrix)\n",
    "# Gerçek pozitif, yanlış pozitif, gerçek negatif, yanlış negatif sayılarını gösterir.\n",
    "conf_matrix = confusion_matrix(y_test, y_pred)\n",
    "print(\"\\nKarışıklık Matrisi:\\n\", conf_matrix)"
   ]
  },
  {
   "cell_type": "code",
   "execution_count": 47,
   "id": "c650fbdf-274b-4371-b06e-de58eace485b",
   "metadata": {},
   "outputs": [
    {
     "data": {
      "image/png": "[encoded data removed]",
      "text/plain": [
       "<Figure size 600x400 with 2 Axes>"
      ]
     },
     "metadata": {},
     "output_type": "display_data"
    }
   ],
   "source": [
    "# Karışıklık Matrisini Görselleştirme\n",
    "plt.figure(figsize=(6, 4))\n",
    "sns.heatmap(conf_matrix, annot=True, fmt='d', cmap='Blues',\n",
    "            xticklabels=['No Disease (0)', 'Disease (1)'],\n",
    "            yticklabels=['No Disease (0)', 'Disease (1)'])\n",
    "plt.xlabel('Tahmin Edilen Değer')\n",
    "plt.ylabel('Gerçek Değer')\n",
    "plt.title('Karışıklık Matrisi')\n",
    "plt.show()"
   ]
  },
  {
   "cell_type": "code",
   "execution_count": 48,
   "id": "7397ac5e-6f41-4d3b-b48a-3b65c2534895",
   "metadata": {},
   "outputs": [
    {
     "name": "stdout",
     "output_type": "stream",
     "text": [
      "\n",
      "Sınıflandırma Raporu:\n",
      "               precision    recall  f1-score   support\n",
      "\n",
      "           0       0.71      0.73      0.72      6937\n",
      "           1       0.72      0.70      0.71      6786\n",
      "\n",
      "    accuracy                           0.71     13723\n",
      "   macro avg       0.71      0.71      0.71     13723\n",
      "weighted avg       0.71      0.71      0.71     13723\n",
      "\n"
     ]
    }
   ],
   "source": [
    "# Sınıflandırma Raporu (Precision, Recall, F1-Score)\n",
    "# Özellikle dengesiz veri setlerinde Accuracy yerine Precision/Recall/F1-Score daha bilgilendirici olur\n",
    "class_report = classification_report(y_test, y_pred)\n",
    "print(\"\\nSınıflandırma Raporu:\\n\", class_report)"
   ]
  },
  {
   "cell_type": "code",
   "execution_count": 49,
   "id": "87ef0036-6dc7-458b-9398-1a5108e04b4e",
   "metadata": {},
   "outputs": [
    {
     "name": "stdout",
     "output_type": "stream",
     "text": [
      "\n",
      "Özellik Önem Dereceleri:\n",
      "           Feature  Importance\n",
      "0             age    0.314221\n",
      "2          weight    0.175986\n",
      "3           ap_hi    0.166444\n",
      "1          height    0.158775\n",
      "4           ap_lo    0.091174\n",
      "7   cholesterol_3    0.025840\n",
      "5        gender_2    0.014033\n",
      "12       active_1    0.012028\n",
      "6   cholesterol_2    0.010193\n",
      "8          gluc_2    0.008292\n",
      "10        smoke_1    0.008240\n",
      "9          gluc_3    0.007799\n",
      "11         alco_1    0.006973\n"
     ]
    }
   ],
   "source": [
    "# Özellik önem derecelerini al\n",
    "feature_importances = model.feature_importances_\n",
    "\n",
    "# Özellik isimleri ile bir DataFrame oluşturma\n",
    "features_df = pd.DataFrame({\n",
    "    'Feature': X.columns,\n",
    "    'Importance': feature_importances\n",
    "})\n",
    "\n",
    "# Önem derecesine göre azalan sırada sıralama yapma\n",
    "features_df = features_df.sort_values(by='Importance', ascending=False)\n",
    "\n",
    "print(\"\\nÖzellik Önem Dereceleri:\\n\", features_df)"
   ]
  },
  {
   "cell_type": "code",
   "execution_count": 50,
   "id": "526ec1aa-8fd8-4780-99ac-dd71e9a5b026",
   "metadata": {},
   "outputs": [
    {
     "data": {
      "image/png": "[encoded data removed]",
      "text/plain": [
       "<Figure size 1000x600 with 1 Axes>"
      ]
     },
     "metadata": {},
     "output_type": "display_data"
    }
   ],
   "source": [
    "# Özellik önem derecelerini görselleştirme\n",
    "plt.figure(figsize=(10, 6))\n",
    "sns.barplot(x='Importance', y='Feature', data=features_df)\n",
    "plt.title('Özellik Önem Dereceleri (Random Forest)')\n",
    "plt.xlabel('Önem Derecesi')\n",
    "plt.ylabel('Özellik')\n",
    "plt.tight_layout() \n",
    "plt.show()"
   ]
  },
  {
   "cell_type": "code",
   "execution_count": null,
   "id": "aa3e1279-9f64-4193-9e29-4e95c4952183",
   "metadata": {},
   "outputs": [],
   "source": []
  }
 ],
 "metadata": {
  "kernelspec": {
   "display_name": "Python [conda env:base] *",
   "language": "python",
   "name": "conda-base-py"
  },
  "language_info": {
   "codemirror_mode": {
    "name": "ipython",
    "version": 3
   },
   "file_extension": ".py",
   "mimetype": "text/x-python",
   "name": "python",
   "nbconvert_exporter": "python",
   "pygments_lexer": "ipython3",
   "version": "3.12.7"
  }
 },
 "nbformat": 4,
 "nbformat_minor": 5
}
